{
  "cells": [
    {
      "cell_type": "markdown",
      "metadata": {},
      "source": [
        "#  Largest Number in Arrays\n",
        "Return an array consisting of the largest number from each provided sub-array. For simplicity, the provided array will contain exactly 4 sub-arrays.\n",
        "\n",
        "Remember, you can iterate through an array with a simple for loop, and access each member with array syntax arr[i]."
      ]
    },
    {
      "cell_type": "code",
      "execution_count": 5,
      "metadata": {
        "trusted": true
      },
      "outputs": [
        {
          "data": {
            "application/javascript": "function largestOfFour(arr) {\n    let newarr=[]\n    /* The code is using a for loop to iterate through the elements of the `arr` array. */\n    for(let i=0 ; i< arr.length ; i++){\n       let x=arr[i][0];\n      for(let z=0;z<arr[i].length ;z++){\n        if(arr[i][z]>x){\n            x=arr[i][z]\n        }\n      }\n      newarr.push(x)\n    }\n return newarr\n}\n\n\n\nalert(largestOfFour([[4, 5, 1, 3], [13, 27, 18, 26], \n    [32, 35, 37, 39], [100,43,6,5]]))\n",
            "text/plain": [
              "<IPython.core.display.Javascript object>"
            ]
          },
          "metadata": {},
          "output_type": "display_data"
        }
      ],
      "source": [
        "%%js\n",
        "function largestOfFour(arr) {\n",
        "    let newarr=[]\n",
        "    /* The code is using a for loop to iterate through the elements of the `arr` array. */\n",
        "    for(let i=0 ; i< arr.length ; i++){\n",
        "       let x=arr[i][0];\n",
        "      for(let z=0;z<arr[i].length ;z++){\n",
        "        if(arr[i][z]>x){\n",
        "            x=arr[i][z]\n",
        "        }\n",
        "      }\n",
        "      newarr.push(x)\n",
        "    }\n",
        " return newarr\n",
        "}\n",
        "alert(largestOfFour([[4, 5, 1, 3], [13, 27, 18, 26], \n",
        "    [32, 35, 37, 39], [100,43,6,5]]))\n"
      ]
    },
    {
      "cell_type": "code",
      "execution_count": null,
      "metadata": {
        "trusted": true
      },
      "outputs": [],
      "source": []
    }
  ],
  "metadata": {
    "kernelspec": {
      "display_name": "Python (Pyodide)",
      "language": "python",
      "name": "python"
    },
    "language_info": {
      "codemirror_mode": {
        "name": "python",
        "version": 3
      },
      "file_extension": ".py",
      "mimetype": "text/x-python",
      "name": "python",
      "nbconvert_exporter": "python",
      "pygments_lexer": "ipython3",
      "version": "3.8"
    }
  },
  "nbformat": 4,
  "nbformat_minor": 4
}
