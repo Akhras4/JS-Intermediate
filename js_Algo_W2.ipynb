{
  "metadata": {
    "kernelspec": {
      "display_name": "Python (Pyodide)",
      "language": "python",
      "name": "python"
    },
    "language_info": {
      "codemirror_mode": {
        "name": "python",
        "version": 3
      },
      "file_extension": ".py",
      "mimetype": "text/x-python",
      "name": "python",
      "nbconvert_exporter": "python",
      "pygments_lexer": "ipython3",
      "version": "3.8"
    }
  },
  "nbformat_minor": 4,
  "nbformat": 4,
  "cells": [
    {
      "cell_type": "code",
      "source": "%lsmagic\n",
      "metadata": {
        "trusted": true
      },
      "outputs": [
        {
          "data": {
            "application/json": {
              "cell": {
                "!": "OSMagics",
                "HTML": "Other",
                "SVG": "Other",
                "bash": "Other",
                "capture": "ExecutionMagics",
                "code_wrap": "ExecutionMagics",
                "debug": "ExecutionMagics",
                "file": "Other",
                "html": "DisplayMagics",
                "javascript": "DisplayMagics",
                "js": "DisplayMagics",
                "latex": "DisplayMagics",
                "markdown": "DisplayMagics",
                "perl": "Other",
                "prun": "ExecutionMagics",
                "pypy": "Other",
                "python": "Other",
                "python2": "Other",
                "python3": "Other",
                "ruby": "Other",
                "script": "ScriptMagics",
                "sh": "Other",
                "svg": "DisplayMagics",
                "sx": "OSMagics",
                "system": "OSMagics",
                "time": "ExecutionMagics",
                "timeit": "ExecutionMagics",
                "writefile": "OSMagics"
              },
              "line": {
                "alias": "OSMagics",
                "alias_magic": "BasicMagics",
                "autoawait": "AsyncMagics",
                "autocall": "AutoMagics",
                "automagic": "AutoMagics",
                "bookmark": "OSMagics",
                "cat": "Other",
                "cd": "OSMagics",
                "code_wrap": "ExecutionMagics",
                "colors": "BasicMagics",
                "conda": "PackagingMagics",
                "config": "ConfigMagics",
                "cp": "Other",
                "debug": "ExecutionMagics",
                "dhist": "OSMagics",
                "dirs": "OSMagics",
                "doctest_mode": "BasicMagics",
                "ed": "Other",
                "edit": "CodeMagics",
                "env": "OSMagics",
                "gui": "BasicMagics",
                "hist": "Other",
                "history": "HistoryMagics",
                "killbgscripts": "ScriptMagics",
                "ldir": "Other",
                "lf": "Other",
                "lk": "Other",
                "ll": "Other",
                "load": "CodeMagics",
                "load_ext": "ExtensionMagics",
                "loadpy": "CodeMagics",
                "logoff": "LoggingMagics",
                "logon": "LoggingMagics",
                "logstart": "LoggingMagics",
                "logstate": "LoggingMagics",
                "logstop": "LoggingMagics",
                "ls": "Other",
                "lsmagic": "BasicMagics",
                "lx": "Other",
                "macro": "ExecutionMagics",
                "magic": "BasicMagics",
                "mamba": "PackagingMagics",
                "matplotlib": "PylabMagics",
                "micromamba": "PackagingMagics",
                "mkdir": "Other",
                "mv": "Other",
                "notebook": "BasicMagics",
                "page": "BasicMagics",
                "pastebin": "CodeMagics",
                "pdb": "ExecutionMagics",
                "pdef": "NamespaceMagics",
                "pdoc": "NamespaceMagics",
                "pfile": "NamespaceMagics",
                "pinfo": "NamespaceMagics",
                "pinfo2": "NamespaceMagics",
                "pip": "PackagingMagics",
                "popd": "OSMagics",
                "pprint": "BasicMagics",
                "precision": "BasicMagics",
                "prun": "ExecutionMagics",
                "psearch": "NamespaceMagics",
                "psource": "NamespaceMagics",
                "pushd": "OSMagics",
                "pwd": "OSMagics",
                "pycat": "OSMagics",
                "pylab": "PylabMagics",
                "quickref": "BasicMagics",
                "recall": "HistoryMagics",
                "rehashx": "OSMagics",
                "reload_ext": "ExtensionMagics",
                "rep": "Other",
                "rerun": "HistoryMagics",
                "reset": "NamespaceMagics",
                "reset_selective": "NamespaceMagics",
                "rm": "Other",
                "rmdir": "Other",
                "run": "ExecutionMagics",
                "save": "CodeMagics",
                "sc": "OSMagics",
                "set_env": "OSMagics",
                "store": "StoreMagics",
                "sx": "OSMagics",
                "system": "OSMagics",
                "tb": "ExecutionMagics",
                "time": "ExecutionMagics",
                "timeit": "ExecutionMagics",
                "unalias": "OSMagics",
                "unload_ext": "ExtensionMagics",
                "who": "NamespaceMagics",
                "who_ls": "NamespaceMagics",
                "whos": "NamespaceMagics",
                "xdel": "NamespaceMagics",
                "xmode": "BasicMagics"
              }
            },
            "text/plain": [
              "Available line magics:\n",
              "%alias  %alias_magic  %autoawait  %autocall  %automagic  %bookmark  %cat  %cd  %code_wrap  %colors  %conda  %config  %cp  %debug  %dhist  %dirs  %doctest_mode  %ed  %edit  %env  %gui  %hist  %history  %killbgscripts  %ldir  %lf  %lk  %ll  %load  %load_ext  %loadpy  %logoff  %logon  %logstart  %logstate  %logstop  %ls  %lsmagic  %lx  %macro  %magic  %mamba  %matplotlib  %micromamba  %mkdir  %mv  %notebook  %page  %pastebin  %pdb  %pdef  %pdoc  %pfile  %pinfo  %pinfo2  %pip  %popd  %pprint  %precision  %prun  %psearch  %psource  %pushd  %pwd  %pycat  %pylab  %quickref  %recall  %rehashx  %reload_ext  %rep  %rerun  %reset  %reset_selective  %rm  %rmdir  %run  %save  %sc  %set_env  %store  %sx  %system  %tb  %time  %timeit  %unalias  %unload_ext  %who  %who_ls  %whos  %xdel  %xmode\n",
              "\n",
              "Available cell magics:\n",
              "%%!  %%HTML  %%SVG  %%bash  %%capture  %%code_wrap  %%debug  %%file  %%html  %%javascript  %%js  %%latex  %%markdown  %%perl  %%prun  %%pypy  %%python  %%python2  %%python3  %%ruby  %%script  %%sh  %%svg  %%sx  %%system  %%time  %%timeit  %%writefile\n",
              "\n",
              "Automagic is ON, % prefix IS NOT needed for line magics."
            ]
          },
          "execution_count": 1,
          "metadata": {},
          "output_type": "execute_result"
        }
      ],
      "execution_count": 1
    },
    {
      "cell_type": "markdown",
      "source": "#  Largest Number in Arrays\nReturn an array consisting of the largest number from each provided sub-array. For simplicity, the provided array will contain exactly 4 sub-arrays.\n\nRemember, you can iterate through an array with a simple for loop, and access each member with array syntax arr[i].",
      "metadata": {}
    },
    {
      "cell_type": "code",
      "source": "%%js\nfunction largestOfFour(arr) {\n    let newarr=[]\n    for(let i=0 ; i< arr.length ; i++){\n       let x=arr[i][0];\n      for(let z=0;z<arr[i].length ;z++){\n        if(arr[i][z]>x){\n            x=arr[i][z]\n        }\n      }\n      newarr.push(x)\n    }\n return newarr\n}\nalert(largestOfFour([[4, 5, 1, 3], [13, 27, 18, 26], \n    [32, 35, 37, 39], [100,43,6,5]]))\n",
      "metadata": {
        "trusted": true
      },
      "outputs": [],
      "execution_count": null
    },
    {
      "cell_type": "code",
      "source": "%%js\nfunction largestOfFour(arr) {\nlet newarr=[]\nfor(let i of arr ){\n   let max=i[0]\n   for(let j of i){\n      if(j>max){\n      max=j}}\n    newarr.push(max)\n    }\nreturn newarr;\n}\nalert(largestOfFour([[4, 5, 1, 3], [13, 27, 18, 26], \n    [32, 35, 37, 39], [100,43,6,5]]))    ",
      "metadata": {
        "trusted": true
      },
      "outputs": [
        {
          "data": {
            "application/javascript": "function largestOfFour(arr) {\nlet newarr=[]\nfor(let i of arr ){\n   let max=i[0]\n   for(let j of i){\n      if(j>max){\n      max=j}}\n    newarr.push(max)\n    }\nreturn newarr;\n}\nalert(largestOfFour([[4, 5, 1, 3], [13, 27, 18, 26], \n    [32, 35, 37, 39], [100,43,6,5]]))    \n",
            "text/plain": [
              "<IPython.core.display.Javascript object>"
            ]
          },
          "metadata": {},
          "output_type": "display_data"
        }
      ],
      "execution_count": 24
    },
    {
      "cell_type": "markdown",
      "source": "# with python",
      "metadata": {}
    },
    {
      "cell_type": "code",
      "source": "def largestOfFour(arr):\n    resultarray = []\n    for num in arr:\n        maxnum = num[0]\n        for insidarr in num:\n            if insidarr > maxnum:\n                maxnum = insidarr\n        resultarray.append(maxnum)\n    return resultarray      \nprint(largestOfFour([[4, 5, 1, 3], [13, 27, 18, 26], \n    [32, 35, 37, 39], [100,43,6,5]]))        ",
      "metadata": {
        "trusted": true
      },
      "outputs": [
        {
          "name": "stdout",
          "output_type": "stream",
          "text": [
            "[5, 27, 39, 100]\n"
          ]
        }
      ],
      "execution_count": 18
    },
    {
      "cell_type": "markdown",
      "source": "# Find the longest Word in a String\nReturn the length of the longest word in the provided sentence.\n\nYour response should be a number. For these algorithms, you are allowed to use the split() method.",
      "metadata": {}
    },
    {
      "cell_type": "code",
      "source": "%%js\nfunction findLongestWord(word) {\n    let new_Array=[]\n    let arr=word.split(\" \")\n    for (let i=0;i<arr.length;i++) {\n        let x=arr[i].length;\n        new_Array.push(x);\n    }\n    let max_length = new_Array[0];\n    for (let j=0;j < new_Array.length;j++) {\n    if (new_Array[j] > max_length) {\n        max_length=new_Array[j]\n           \n     }\n    }\n    return max_length ;\n    }   \nalert(findLongestWord(\"May the force be with you\"))",
      "metadata": {
        "trusted": true
      },
      "outputs": [
        {
          "data": {
            "application/javascript": "function findLongestWord(word) {\n    let new_Array=[]\n    let arr=word.split(\" \")\n    for (let i=0;i<arr.length;i++) {\n        let x=arr[i].length;\n        new_Array.push(x);\n    }\n    let max_length = new_Array[0];\n    for (let j=0;j < new_Array.length;j++) {\n    if (new_Array[j] > max_length) {\n        max_length=new_Array[j]\n           \n       }\n    }\n    return max_length ;\n    }   \nalert(findLongestWord(\"May the force be with you\"))\n",
            "text/plain": [
              "<IPython.core.display.Javascript object>"
            ]
          },
          "metadata": {},
          "output_type": "display_data"
        }
      ],
      "execution_count": 40
    },
    {
      "cell_type": "code",
      "source": "%%js\nfunction findLongestWord(word) {\n    let arr = word.split(\" \")\n    let max_length=arr[0].length \n    for (let i=0;i<arr.length;i++){\n       if(arr[i].length>max_length){\n           max_length=arr[i].length\n        }\n      }return max_length\n}\nalert(findLongestWord(\"May the force be with you\")) ",
      "metadata": {
        "trusted": true
      },
      "outputs": [
        {
          "data": {
            "application/javascript": "function findLongestWord(word) {\n    let new_Array = []\n    let arr = word.split(\" \")\n    let max_length=arr[0].length \n    for (let i=0;i<arr.length;i++){\n       if(arr[i].length>max_length){\n           max_length=arr[i].length\n        }\n      }return max_length\n}\nalert(findLongestWord(\"May the force be with you\")) \n",
            "text/plain": [
              "<IPython.core.display.Javascript object>"
            ]
          },
          "metadata": {},
          "output_type": "display_data"
        }
      ],
      "execution_count": 39
    },
    {
      "cell_type": "markdown",
      "source": "",
      "metadata": {}
    },
    {
      "cell_type": "code",
      "source": "# with python",
      "metadata": {
        "trusted": true
      },
      "outputs": [],
      "execution_count": 42
    },
    {
      "cell_type": "code",
      "source": "def findLongestWord(word):\n    arr = word.split(\" \")\n    max_length = len(arr[0]) \n    for i in arr:\n        x = len(i)  \n        if x > max_length: \n            max_length = x \n    return max_length\n\nprint(findLongestWord(\"May the force be with you\"))  ",
      "metadata": {
        "trusted": true
      },
      "outputs": [
        {
          "name": "stdout",
          "output_type": "stream",
          "text": [
            "5\n"
          ]
        }
      ],
      "execution_count": 38
    },
    {
      "cell_type": "markdown",
      "source": "# Title Case a Sentence",
      "metadata": {}
    },
    {
      "cell_type": "markdown",
      "source": "Return the provided string with the first letter of each word capitalized. Make sure the rest of the word is in lowercase.\r\n\r\nFor the purpose of this exercise, you should also capitalize on connecting words like \"the\" and \"of\".\r\n\r\nFor this algorithm, you can use the split() method.",
      "metadata": {}
    },
    {
      "cell_type": "code",
      "source": "%%js\nfunction titleCase(text){\n    let arr=text.split(\" \")\n    for (let i=0;i<arr.length;i++){\n       arr[i]=arr[i][0].toUpperCase()+arr[i].substring(1).toLowerCase()\n    }\n\nreturn (arr.join(\" \"))\n}\nalert(titleCase(\"i'm a little tea pot\")) ",
      "metadata": {
        "trusted": true
      },
      "outputs": [
        {
          "output_type": "display_data",
          "data": {
            "text/plain": "<IPython.core.display.Javascript object>",
            "application/javascript": "function titleCase(text){\n    let arr=text.split(\" \")\n    for (let i=0;i<arr.length;i++){\n       arr[i]=arr[i][0].toUpperCase()+arr[i].substring(1).toLowerCase()\n    }\n\nreturn (arr.join(\" \"))\n}\nalert(titleCase(\"i'm a little tea pot\")) \n"
          },
          "metadata": {}
        }
      ],
      "execution_count": 27
    },
    {
      "cell_type": "code",
      "source": "def titleCase(text):\n    arr = text.split(\" \")\n    for i in range(len(arr)):\n        arr[i] = arr[i][0].upper() + arr[i][1:].lower()\n    return ' '.join(arr)\n\nprint(titleCase(\"i'm a little tea pot\"))",
      "metadata": {
        "trusted": true
      },
      "outputs": [
        {
          "name": "stdout",
          "text": "I'm A Little Tea Pot\n",
          "output_type": "stream"
        }
      ],
      "execution_count": 34
    },
    {
      "cell_type": "code",
      "source": "",
      "metadata": {
        "trusted": true
      },
      "outputs": [],
      "execution_count": null
    }
  ]
}