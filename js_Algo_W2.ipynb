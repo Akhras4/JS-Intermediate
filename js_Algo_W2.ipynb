{
  "metadata": {
    "kernelspec": {
      "name": "python",
      "display_name": "Python (Pyodide)",
      "language": "python"
    },
    "language_info": {
      "codemirror_mode": {
        "name": "python",
        "version": 3
      },
      "file_extension": ".py",
      "mimetype": "text/x-python",
      "name": "python",
      "nbconvert_exporter": "python",
      "pygments_lexer": "ipython3",
      "version": "3.8"
    }
  },
  "nbformat_minor": 4,
  "nbformat": 4,
  "cells": [
    {
      "cell_type": "code",
      "source": "%lsmagic\n",
      "metadata": {
        "trusted": true
      },
      "outputs": [
        {
          "execution_count": 1,
          "output_type": "execute_result",
          "data": {
            "text/plain": "Available line magics:\n%alias  %alias_magic  %autoawait  %autocall  %automagic  %bookmark  %cat  %cd  %code_wrap  %colors  %conda  %config  %cp  %debug  %dhist  %dirs  %doctest_mode  %ed  %edit  %env  %gui  %hist  %history  %killbgscripts  %ldir  %lf  %lk  %ll  %load  %load_ext  %loadpy  %logoff  %logon  %logstart  %logstate  %logstop  %ls  %lsmagic  %lx  %macro  %magic  %mamba  %matplotlib  %micromamba  %mkdir  %mv  %notebook  %page  %pastebin  %pdb  %pdef  %pdoc  %pfile  %pinfo  %pinfo2  %pip  %popd  %pprint  %precision  %prun  %psearch  %psource  %pushd  %pwd  %pycat  %pylab  %quickref  %recall  %rehashx  %reload_ext  %rep  %rerun  %reset  %reset_selective  %rm  %rmdir  %run  %save  %sc  %set_env  %store  %sx  %system  %tb  %time  %timeit  %unalias  %unload_ext  %who  %who_ls  %whos  %xdel  %xmode\n\nAvailable cell magics:\n%%!  %%HTML  %%SVG  %%bash  %%capture  %%code_wrap  %%debug  %%file  %%html  %%javascript  %%js  %%latex  %%markdown  %%perl  %%prun  %%pypy  %%python  %%python2  %%python3  %%ruby  %%script  %%sh  %%svg  %%sx  %%system  %%time  %%timeit  %%writefile\n\nAutomagic is ON, % prefix IS NOT needed for line magics.",
            "application/json": {
              "line": {
                "automagic": "AutoMagics",
                "autocall": "AutoMagics",
                "alias_magic": "BasicMagics",
                "lsmagic": "BasicMagics",
                "magic": "BasicMagics",
                "page": "BasicMagics",
                "pprint": "BasicMagics",
                "colors": "BasicMagics",
                "xmode": "BasicMagics",
                "quickref": "BasicMagics",
                "doctest_mode": "BasicMagics",
                "gui": "BasicMagics",
                "precision": "BasicMagics",
                "notebook": "BasicMagics",
                "save": "CodeMagics",
                "pastebin": "CodeMagics",
                "loadpy": "CodeMagics",
                "load": "CodeMagics",
                "edit": "CodeMagics",
                "config": "ConfigMagics",
                "prun": "ExecutionMagics",
                "pdb": "ExecutionMagics",
                "debug": "ExecutionMagics",
                "tb": "ExecutionMagics",
                "run": "ExecutionMagics",
                "timeit": "ExecutionMagics",
                "time": "ExecutionMagics",
                "macro": "ExecutionMagics",
                "code_wrap": "ExecutionMagics",
                "load_ext": "ExtensionMagics",
                "unload_ext": "ExtensionMagics",
                "reload_ext": "ExtensionMagics",
                "history": "HistoryMagics",
                "recall": "HistoryMagics",
                "rerun": "HistoryMagics",
                "logstart": "LoggingMagics",
                "logstop": "LoggingMagics",
                "logoff": "LoggingMagics",
                "logon": "LoggingMagics",
                "logstate": "LoggingMagics",
                "pinfo": "NamespaceMagics",
                "pinfo2": "NamespaceMagics",
                "pdef": "NamespaceMagics",
                "pdoc": "NamespaceMagics",
                "psource": "NamespaceMagics",
                "pfile": "NamespaceMagics",
                "psearch": "NamespaceMagics",
                "who_ls": "NamespaceMagics",
                "who": "NamespaceMagics",
                "whos": "NamespaceMagics",
                "reset": "NamespaceMagics",
                "reset_selective": "NamespaceMagics",
                "xdel": "NamespaceMagics",
                "alias": "OSMagics",
                "unalias": "OSMagics",
                "rehashx": "OSMagics",
                "pwd": "OSMagics",
                "cd": "OSMagics",
                "env": "OSMagics",
                "set_env": "OSMagics",
                "pushd": "OSMagics",
                "popd": "OSMagics",
                "dirs": "OSMagics",
                "dhist": "OSMagics",
                "sc": "OSMagics",
                "sx": "OSMagics",
                "system": "OSMagics",
                "bookmark": "OSMagics",
                "pycat": "OSMagics",
                "pip": "PackagingMagics",
                "conda": "PackagingMagics",
                "mamba": "PackagingMagics",
                "micromamba": "PackagingMagics",
                "matplotlib": "PylabMagics",
                "pylab": "PylabMagics",
                "killbgscripts": "ScriptMagics",
                "autoawait": "AsyncMagics",
                "ed": "Other",
                "hist": "Other",
                "rep": "Other",
                "mkdir": "Other",
                "rmdir": "Other",
                "mv": "Other",
                "rm": "Other",
                "cp": "Other",
                "cat": "Other",
                "ls": "Other",
                "ll": "Other",
                "lf": "Other",
                "lk": "Other",
                "ldir": "Other",
                "lx": "Other",
                "store": "StoreMagics"
              },
              "cell": {
                "js": "DisplayMagics",
                "javascript": "DisplayMagics",
                "latex": "DisplayMagics",
                "svg": "DisplayMagics",
                "html": "DisplayMagics",
                "markdown": "DisplayMagics",
                "prun": "ExecutionMagics",
                "debug": "ExecutionMagics",
                "timeit": "ExecutionMagics",
                "time": "ExecutionMagics",
                "capture": "ExecutionMagics",
                "code_wrap": "ExecutionMagics",
                "sx": "OSMagics",
                "system": "OSMagics",
                "!": "OSMagics",
                "writefile": "OSMagics",
                "script": "ScriptMagics",
                "sh": "Other",
                "bash": "Other",
                "perl": "Other",
                "ruby": "Other",
                "python": "Other",
                "python2": "Other",
                "python3": "Other",
                "pypy": "Other",
                "SVG": "Other",
                "HTML": "Other",
                "file": "Other"
              }
            }
          },
          "metadata": {}
        }
      ],
      "execution_count": 1
    },
    {
      "cell_type": "markdown",
      "source": "#  Largest Number in Arrays\nReturn an array consisting of the largest number from each provided sub-array. For simplicity, the provided array will contain exactly 4 sub-arrays.\r\n\r\nRemember, you can iterate through an array with a simple for loop, and access each member with array syntax arr[i].",
      "metadata": {}
    },
    {
      "cell_type": "code",
      "source": "%%js\nfunction largestOfFour(arr) {\n    let newarr=[]\n    for(let i=0 ; i< arr.length ; i++){\n       let x=arr[i][0];\n      for(let z=0;z<arr[i].length ;z++){\n        if(arr[i][z]>x){\n            x=arr[i][z]\n        }\n      }\n      newarr.push(x)\n    }\n return newarr\n}\nalert(largestOfFour([[4, 5, 1, 3], [13, 27, 18, 26], \n    [32, 35, 37, 39], [100,43,6,5]]))\n",
      "metadata": {
        "trusted": true
      },
      "outputs": [],
      "execution_count": null
    },
    {
      "cell_type": "code",
      "source": "%%js\nfunction largestOfFour(arr) {\nlet newarr=[]\nfor(let i of arr ){\n   let max=i[0]\n   for(let j of i){\n      if(j>max){\n      max=j}}\n    newarr.push(max)\n    }\nreturn newarr;\n}\nalert(largestOfFour([[4, 5, 1, 3], [13, 27, 18, 26], \n    [32, 35, 37, 39], [100,43,6,5]]))    ",
      "metadata": {
        "trusted": true
      },
      "outputs": [
        {
          "output_type": "display_data",
          "data": {
            "text/plain": "<IPython.core.display.Javascript object>",
            "application/javascript": "function largestOfFour(arr) {\nlet newarr=[]\nfor(let i of arr ){\n   let max=i[0]\n   for(let j of i){\n      if(j>max){\n      max=j}}\n    newarr.push(max)\n    }\nreturn newarr;\n}\nalert(largestOfFour([[4, 5, 1, 3], [13, 27, 18, 26], \n    [32, 35, 37, 39], [100,43,6,5]]))    \n"
          },
          "metadata": {}
        }
      ],
      "execution_count": 24
    },
    {
      "cell_type": "markdown",
      "source": "# with python",
      "metadata": {}
    },
    {
      "cell_type": "code",
      "source": "def largestOfFour(arr):\n    resultarray = []\n    for num in arr:\n        maxnum = num[0]\n        for insidarr in num:\n            if insidarr > maxnum:\n                maxnum = insidarr\n        resultarray.append(maxnum)\n    return resultarray      \nprint(largestOfFour([[4, 5, 1, 3], [13, 27, 18, 26], \n    [32, 35, 37, 39], [100,43,6,5]]))        ",
      "metadata": {
        "trusted": true
      },
      "outputs": [
        {
          "name": "stdout",
          "text": "[5, 27, 39, 100]\n",
          "output_type": "stream"
        }
      ],
      "execution_count": 18
    },
    {
      "cell_type": "markdown",
      "source": "# Find the longest Word in a String\nReturn the length of the longest word in the provided sentence.\r\n\r\nYour response should be a number. For these algorithms, you are allowed to use the split() method.",
      "metadata": {}
    },
    {
      "cell_type": "code",
      "source": "%%js\nfunction findLongestWord(word) {\n    let new_Array=[]\n    let arr=word.split(\" \")\n    for (let i=0;i<arr.length;i++) {\n        let x=arr[i].length;\n        new_Array.push(x);\n    }\n    let max_length = new_Array[0];\n    for (let j=0;j < new_Array.length;j++) {\n    if (new_Array[j] > max_length) {\n        max_length=new_Array[j]\n           \n       }\n    }\n    return max_length ;\n    }   \nalert(findLongestWord(\"May the force be with you\"))",
      "metadata": {
        "trusted": true
      },
      "outputs": [
        {
          "output_type": "display_data",
          "data": {
            "text/plain": "<IPython.core.display.Javascript object>",
            "application/javascript": "function findLongestWord(word) {\n    let new_Array=[]\n    let arr=word.split(\" \")\n    for (let i=0;i<arr.length;i++) {\n        let x=arr[i].length;\n        new_Array.push(x);\n    }\n    let max_length = new_Array[0];\n    for (let j=0;j < new_Array.length;j++) {\n    if (new_Array[j] > max_length) {\n        max_length=new_Array[j]\n           \n       }\n    }\n    return max_length ;\n    }   \nalert(findLongestWord(\"May the force be with you\"))\n"
          },
          "metadata": {}
        }
      ],
      "execution_count": 40
    },
    {
      "cell_type": "code",
      "source": "%%js\nfunction findLongestWord(word) {\n    let arr = word.split(\" \")\n    let max_length=arr[0].length \n    for (let i=0;i<arr.length;i++){\n       if(arr[i].length>max_length){\n           max_length=arr[i].length\n        }\n      }return max_length\n}\nalert(findLongestWord(\"May the force be with you\")) ",
      "metadata": {
        "trusted": true
      },
      "outputs": [
        {
          "output_type": "display_data",
          "data": {
            "text/plain": "<IPython.core.display.Javascript object>",
            "application/javascript": "function findLongestWord(word) {\n    let new_Array = []\n    let arr = word.split(\" \")\n    let max_length=arr[0].length \n    for (let i=0;i<arr.length;i++){\n       if(arr[i].length>max_length){\n           max_length=arr[i].length\n        }\n      }return max_length\n}\nalert(findLongestWord(\"May the force be with you\")) \n"
          },
          "metadata": {}
        }
      ],
      "execution_count": 39
    },
    {
      "cell_type": "code",
      "source": "# with python",
      "metadata": {
        "trusted": true
      },
      "outputs": [],
      "execution_count": 42
    },
    {
      "cell_type": "code",
      "source": "def findLongestWord(word):\n    arr = word.split(\" \")\n    max_length = len(arr[0]) \n    for i in arr:\n        x = len(i)  \n        if x > max_length: \n            max_length = x \n    return max_length\n\nprint(findLongestWord(\"May the force be with you\"))  ",
      "metadata": {
        "trusted": true
      },
      "outputs": [
        {
          "name": "stdout",
          "text": "5\n",
          "output_type": "stream"
        }
      ],
      "execution_count": 38
    },
    {
      "cell_type": "code",
      "source": "",
      "metadata": {
        "trusted": true
      },
      "outputs": [],
      "execution_count": null
    }
  ]
}